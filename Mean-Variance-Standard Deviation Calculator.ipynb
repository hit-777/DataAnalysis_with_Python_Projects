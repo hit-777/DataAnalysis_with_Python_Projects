{
 "cells": [
  {
   "cell_type": "code",
   "execution_count": 50,
   "id": "00b82267-f12a-47b2-b01a-991a789da7ee",
   "metadata": {},
   "outputs": [
    {
     "data": {
      "text/plain": [
       "{'mean': [[3.0, 4.0, 5.0], [1.0, 4.0, 7.0], 4.0],\n",
       " 'variance': [[6.0, 6.0, 6.0],\n",
       "  [0.6666666666666666, 0.6666666666666666, 0.6666666666666666],\n",
       "  6.666666666666667],\n",
       " 'standard deviation': [[2.449489742783178,\n",
       "   2.449489742783178,\n",
       "   2.449489742783178],\n",
       "  [0.816496580927726, 0.816496580927726, 0.816496580927726],\n",
       "  2.581988897471611],\n",
       " 'max': [[6, 7, 8], [2, 5, 8], 8],\n",
       " 'min': [[0, 1, 2], [0, 3, 6], 0],\n",
       " 'sum': [[9, 12, 15], [3, 12, 21], 36]}"
      ]
     },
     "execution_count": 50,
     "metadata": {},
     "output_type": "execute_result"
    }
   ],
   "source": [
    "import numpy as np\n",
    "def calculate(x):\n",
    "    if len(x) !=9:\n",
    "        raise ValueError('List must contain nine numbers.')\n",
    "    df=np.array([(x[:3]),(x[3:6]),(x[6:])])\n",
    "\n",
    "    m=[np.mean(df,axis=0).tolist(),np.mean(df,axis=1).tolist(),np.mean(x)]\n",
    "    v=[np.var(df,axis=0).tolist(),np.var(df,axis=1).tolist(),np.var(x)]\n",
    "    sd=[np.std(df,axis=0).tolist(),np.std(df,axis=1).tolist(),np.std(x)]\n",
    "    mx=[np.max(df,axis=0).tolist(),np.max(df,axis=1).tolist(),np.max(x)]\n",
    "    mn=[np.min(df,axis=0).tolist(),np.min(df,axis=1).tolist(),np.min(x)]\n",
    "    sm=[np.sum(df,axis=0).tolist(),np.sum(df,axis=1).tolist(),np.sum(x)]\n",
    "    arr1=['mean','variance','standard deviation','max','min','sum']\n",
    "    arr2=[m,v,sd,mx,mn,sm]\n",
    "    return dict(zip(arr1,arr2))\n",
    "    \n",
    "x=[0,1,2,3,4,5,6,7,8]\n",
    "calculate(x)\n",
    "\n",
    "\n",
    "\n",
    "\n",
    "  "
   ]
  },
  {
   "cell_type": "code",
   "execution_count": null,
   "id": "0e6aa02a-b267-43dd-93f1-5b8357ef6fc9",
   "metadata": {},
   "outputs": [],
   "source": []
  }
 ],
 "metadata": {
  "kernelspec": {
   "display_name": "Python [conda env:base] *",
   "language": "python",
   "name": "conda-base-py"
  },
  "language_info": {
   "codemirror_mode": {
    "name": "ipython",
    "version": 3
   },
   "file_extension": ".py",
   "mimetype": "text/x-python",
   "name": "python",
   "nbconvert_exporter": "python",
   "pygments_lexer": "ipython3",
   "version": "3.12.7"
  }
 },
 "nbformat": 4,
 "nbformat_minor": 5
}
