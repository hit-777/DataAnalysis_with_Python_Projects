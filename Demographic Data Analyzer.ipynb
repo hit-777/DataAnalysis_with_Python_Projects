{
 "cells": [
  {
   "cell_type": "code",
   "execution_count": 53,
   "id": "a9677cf7-1534-452a-b767-b7a8a487c64a",
   "metadata": {},
   "outputs": [],
   "source": [
    "import pandas as pd"
   ]
  },
  {
   "cell_type": "code",
   "execution_count": 54,
   "id": "76cb62d5-3cf7-4fac-9d8f-289712c8b71d",
   "metadata": {},
   "outputs": [],
   "source": [
    "a=pd.read_csv('Untitled Folder/adult.data')"
   ]
  },
  {
   "cell_type": "code",
   "execution_count": 55,
   "id": "611bdfab-6454-40a1-b1eb-a1a03983b9fc",
   "metadata": {},
   "outputs": [],
   "source": [
    "a.columns = ['age', 'workclass', 'fnlwgt', 'education', 'education-num', 'marital-status', \n",
    "             'occupation', 'relationship', 'race', 'sex', 'capital-gain', 'capital-loss', \n",
    "             'hours-per-week', 'native-country', 'income']"
   ]
  },
  {
   "cell_type": "code",
   "execution_count": 56,
   "id": "85912e21-e67c-446b-b12c-063106957c90",
   "metadata": {},
   "outputs": [
    {
     "name": "stdout",
     "output_type": "stream",
     "text": [
      "                        age  \\\n",
      "race                          \n",
      "Amer-Indian-Eskimo    11561   \n",
      "Asian-Pac-Islander    39219   \n",
      "Black                117987   \n",
      "Other                  9067   \n",
      "White               1078384   \n",
      "\n",
      "                                                            workclass  \\\n",
      "race                                                                    \n",
      "Amer-Indian-Eskimo   Private Private ? Private Private Private ? P...   \n",
      "Asian-Pac-Islander   State-gov Private ? Private Private Private S...   \n",
      "Black                Private Private Private Private Private Priva...   \n",
      "Other                Private Private Private Private Private Priva...   \n",
      "White                Self-emp-not-inc Private Private Self-emp-not...   \n",
      "\n",
      "                        fnlwgt  \\\n",
      "race                             \n",
      "Amer-Indian-Eskimo    37578487   \n",
      "Asian-Pac-Islander   166178293   \n",
      "Black                712313000   \n",
      "Other                 53420656   \n",
      "White               5209805440   \n",
      "\n",
      "                                                            education  \\\n",
      "race                                                                    \n",
      "Amer-Indian-Eskimo   7th-8th Some-college 10th HS-grad Some-colleg...   \n",
      "Asian-Pac-Islander   Bachelors Assoc-voc Some-college HS-grad Some...   \n",
      "Black                11th Bachelors 9th Some-college Assoc-acdm HS...   \n",
      "Other                Some-college Some-college 11th 7th-8th 11th B...   \n",
      "White                Bachelors HS-grad Masters HS-grad Masters Bac...   \n",
      "\n",
      "                    education-num  \\\n",
      "race                                \n",
      "Amer-Indian-Eskimo           2896   \n",
      "Asian-Pac-Islander          11388   \n",
      "Black                       29635   \n",
      "Other                        2396   \n",
      "White                      281909   \n",
      "\n",
      "                                                       marital-status  \\\n",
      "race                                                                    \n",
      "Amer-Indian-Eskimo   Married-civ-spouse Never-married Divorced Mar...   \n",
      "Asian-Pac-Islander   Married-civ-spouse Married-civ-spouse Married...   \n",
      "Black                Married-civ-spouse Married-civ-spouse Married...   \n",
      "Other                Married-civ-spouse Divorced Widowed Married-c...   \n",
      "White                Married-civ-spouse Divorced Married-civ-spous...   \n",
      "\n",
      "                                                           occupation  \\\n",
      "race                                                                    \n",
      "Amer-Indian-Eskimo   Transport-moving Sales ? Craft-repair Adm-cle...   \n",
      "Asian-Pac-Islander   Prof-specialty Craft-repair ? Sales Craft-rep...   \n",
      "Black                Handlers-cleaners Prof-specialty Other-servic...   \n",
      "Other                Exec-managerial Craft-repair Other-service Ha...   \n",
      "White                Exec-managerial Handlers-cleaners Exec-manage...   \n",
      "\n",
      "                                                         relationship  \\\n",
      "race                                                                    \n",
      "Amer-Indian-Eskimo   Husband Not-in-family Not-in-family Husband N...   \n",
      "Asian-Pac-Islander   Husband Husband Husband Wife Husband Other-re...   \n",
      "Black                Husband Wife Not-in-family Husband Not-in-fam...   \n",
      "Other                Wife Other-relative Unmarried Husband Unmarri...   \n",
      "White                Husband Not-in-family Wife Husband Not-in-fam...   \n",
      "\n",
      "                                                                  sex  \\\n",
      "race                                                                    \n",
      "Amer-Indian-Eskimo   Male Female Female Male Female Male Female Ma...   \n",
      "Asian-Pac-Islander   Male Male Male Female Male Female Female Fema...   \n",
      "Black                Male Female Female Male Male Female Male Male...   \n",
      "Other                Female Female Male Male Female Female Male Fe...   \n",
      "White                Male Male Female Male Female Male Female Male...   \n",
      "\n",
      "                    capital-gain  capital-loss  hours-per-week  \\\n",
      "race                                                             \n",
      "Amer-Indian-Eskimo        194458         10629           12455   \n",
      "Asian-Pac-Islander       1536014        101014           41692   \n",
      "Black                    1905454        188643          120033   \n",
      "Other                     253293         16550           10696   \n",
      "White                   31197931       2525864         1131768   \n",
      "\n",
      "                                                       native-country  \\\n",
      "race                                                                    \n",
      "Amer-Indian-Eskimo   Mexico United-States United-States United-Sta...   \n",
      "Asian-Pac-Islander   India ? South ? United-States Philippines Uni...   \n",
      "Black                United-States Cuba Jamaica United-States Unit...   \n",
      "Other                United-States United-States United-States Pue...   \n",
      "White                United-States United-States United-States Uni...   \n",
      "\n",
      "                                                               income  \n",
      "race                                                                   \n",
      "Amer-Indian-Eskimo   <=50K <=50K <=50K <=50K <=50K <=50K <=50K <=5...  \n",
      "Asian-Pac-Islander   >50K >50K >50K <=50K >50K <=50K <=50K <=50K <...  \n",
      "Black                <=50K <=50K <=50K >50K <=50K <=50K <=50K <=50...  \n",
      "Other                <=50K <=50K <=50K <=50K <=50K >50K <=50K <=50...  \n",
      "White                <=50K <=50K <=50K >50K >50K >50K <=50K <=50K ...  \n"
     ]
    }
   ],
   "source": [
    "print(a.groupby('race').sum())"
   ]
  },
  {
   "cell_type": "code",
   "execution_count": 57,
   "id": "82da79d6-bd92-4fd7-a9f5-2296251323f8",
   "metadata": {
    "scrolled": true
   },
   "outputs": [],
   "source": [
    "a['sex']=a['sex'].astype(str)"
   ]
  },
  {
   "cell_type": "code",
   "execution_count": 58,
   "id": "dd7b3460-1875-4bd0-844a-b33349ca8df3",
   "metadata": {},
   "outputs": [],
   "source": [
    "b=a[a['sex']==' Male']"
   ]
  },
  {
   "cell_type": "code",
   "execution_count": 59,
   "id": "945925c8-7b1d-4c7d-b5b2-66a7ec2ff698",
   "metadata": {},
   "outputs": [
    {
     "data": {
      "text/plain": [
       "39.433567396392675"
      ]
     },
     "execution_count": 59,
     "metadata": {},
     "output_type": "execute_result"
    }
   ],
   "source": [
    "b['age'].mean()"
   ]
  },
  {
   "cell_type": "code",
   "execution_count": 60,
   "id": "31c08333-9a0a-46fb-8e85-4373987ed879",
   "metadata": {},
   "outputs": [],
   "source": [
    "x=len(a[a['education']==' Bachelors'])"
   ]
  },
  {
   "cell_type": "code",
   "execution_count": 61,
   "id": "d996adf8-122a-4a60-a662-7b7943d31062",
   "metadata": {},
   "outputs": [],
   "source": [
    "y=len(a)"
   ]
  },
  {
   "cell_type": "code",
   "execution_count": 62,
   "id": "ae3e48a6-9a93-43ce-a014-0bfae3357b48",
   "metadata": {},
   "outputs": [
    {
     "name": "stdout",
     "output_type": "stream",
     "text": [
      "percentage of bachlors is : 16.443488943488944\n"
     ]
    }
   ],
   "source": [
    "print('percentage of bachlors is :',(x/y)*100)"
   ]
  },
  {
   "cell_type": "code",
   "execution_count": 63,
   "id": "3c9da8c2-aea4-40a6-b816-3dfa8117e62c",
   "metadata": {},
   "outputs": [],
   "source": [
    "c = a[a['education'].isin([' Bachelors', ' Masters', ' Doctorate'])]"
   ]
  },
  {
   "cell_type": "code",
   "execution_count": 64,
   "id": "8f28f4a8-9907-43c3-876b-e744eea4c49f",
   "metadata": {},
   "outputs": [],
   "source": [
    "inc=c[c['income']==' >50K']"
   ]
  },
  {
   "cell_type": "code",
   "execution_count": 65,
   "id": "f58b7aa3-bb49-4ec6-8abb-b957bfd0b044",
   "metadata": {
    "scrolled": true
   },
   "outputs": [
    {
     "name": "stdout",
     "output_type": "stream",
     "text": [
      "the percentage of high earners is: 46.54205607476635\n"
     ]
    }
   ],
   "source": [
    "print('the percentage of high earners is:',(len(inc)/len(c))*100)\n"
   ]
  },
  {
   "cell_type": "code",
   "execution_count": 66,
   "id": "e48f6a69-21e6-4703-a2a6-51a675e3b900",
   "metadata": {},
   "outputs": [],
   "source": [
    "d = a[~a['education'].isin([' Bachelors', ' Masters', ' Doctorate'])]"
   ]
  },
  {
   "cell_type": "code",
   "execution_count": 67,
   "id": "f1866239-411f-487e-9020-3f2bc7d37868",
   "metadata": {},
   "outputs": [],
   "source": [
    "incd=d[d['income']==' >50K']"
   ]
  },
  {
   "cell_type": "code",
   "execution_count": 68,
   "id": "2182b78c-5693-452d-b706-4dacfe506263",
   "metadata": {},
   "outputs": [
    {
     "name": "stdout",
     "output_type": "stream",
     "text": [
      "the percentage of high earners in non advanced education is: 17.3713601914639\n"
     ]
    }
   ],
   "source": [
    "print('the percentage of high earners in non advanced education is:',(len(incd)/len(d))*100)"
   ]
  },
  {
   "cell_type": "code",
   "execution_count": 69,
   "id": "66a4a061-2304-4319-b9d6-7c34cfbd13a1",
   "metadata": {},
   "outputs": [
    {
     "data": {
      "text/plain": [
       "1"
      ]
     },
     "execution_count": 69,
     "metadata": {},
     "output_type": "execute_result"
    }
   ],
   "source": [
    "a['hours-per-week'].min()"
   ]
  },
  {
   "cell_type": "code",
   "execution_count": 70,
   "id": "947303f9-e707-4951-9a1f-588b6d681352",
   "metadata": {},
   "outputs": [],
   "source": [
    "e=a[a['hours-per-week']==1]"
   ]
  },
  {
   "cell_type": "code",
   "execution_count": 71,
   "id": "49ab1e3a-04e6-4bd6-bec5-081a957fc5cf",
   "metadata": {},
   "outputs": [],
   "source": [
    "ince=e[e['income']==' >50K']"
   ]
  },
  {
   "cell_type": "code",
   "execution_count": 72,
   "id": "3179af5d-b3ff-453f-8b0e-1a99074930a3",
   "metadata": {},
   "outputs": [
    {
     "name": "stdout",
     "output_type": "stream",
     "text": [
      "the percentage of high earners in minimum hours work is: 10.0\n"
     ]
    }
   ],
   "source": [
    "print('the percentage of high earners in minimum hours work is:',(len(ince)/len(e))*100)"
   ]
  },
  {
   "cell_type": "code",
   "execution_count": 73,
   "id": "d4affe95-ba69-4e43-8bab-bb692a3bbf8a",
   "metadata": {},
   "outputs": [],
   "source": [
    "f=a[a['income']==' >50K']"
   ]
  },
  {
   "cell_type": "code",
   "execution_count": 74,
   "id": "cb346dd9-585f-475d-ab01-635c8bd24e21",
   "metadata": {},
   "outputs": [
    {
     "data": {
      "text/plain": [
       "' Transport-moving'"
      ]
     },
     "execution_count": 74,
     "metadata": {},
     "output_type": "execute_result"
    }
   ],
   "source": [
    "f['occupation'].max()"
   ]
  },
  {
   "cell_type": "code",
   "execution_count": 75,
   "id": "a543062e-ad83-4be7-9b93-e08dd01c63e4",
   "metadata": {},
   "outputs": [],
   "source": [
    "country_income_percentage = f.groupby('native-country').size() / a.groupby('native-country').size() * 100"
   ]
  },
  {
   "cell_type": "code",
   "execution_count": 111,
   "id": "14308e33-3e53-4f4d-ac67-a319bcf4b5f3",
   "metadata": {},
   "outputs": [
    {
     "name": "stdout",
     "output_type": "stream",
     "text": [
      "highest_country:  Iran\n"
     ]
    }
   ],
   "source": [
    "print('highest_country:',country_income_percentage.idxmax())"
   ]
  },
  {
   "cell_type": "code",
   "execution_count": 115,
   "id": "690e843f-ed37-44e7-ae8f-dbd90ae6a1e4",
   "metadata": {},
   "outputs": [
    {
     "name": "stdout",
     "output_type": "stream",
     "text": [
      "highest_percentage: 41.86046511627907\n"
     ]
    }
   ],
   "source": [
    "print('highest_percentage:',country_income_percentage.max())\n"
   ]
  }
 ],
 "metadata": {
  "kernelspec": {
   "display_name": "Python [conda env:base] *",
   "language": "python",
   "name": "conda-base-py"
  },
  "language_info": {
   "codemirror_mode": {
    "name": "ipython",
    "version": 3
   },
   "file_extension": ".py",
   "mimetype": "text/x-python",
   "name": "python",
   "nbconvert_exporter": "python",
   "pygments_lexer": "ipython3",
   "version": "3.12.7"
  }
 },
 "nbformat": 4,
 "nbformat_minor": 5
}
